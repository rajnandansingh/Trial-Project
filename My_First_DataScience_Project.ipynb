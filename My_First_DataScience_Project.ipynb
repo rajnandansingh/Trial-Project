{
  "nbformat": 4,
  "nbformat_minor": 0,
  "metadata": {
    "colab": {
      "name": "My First DataScience Project.ipynb",
      "provenance": []
    },
    "kernelspec": {
      "name": "python3",
      "display_name": "Python 3"
    },
    "language_info": {
      "name": "python"
    }
  },
  "cells": [
    {
      "cell_type": "code",
      "execution_count": 5,
      "metadata": {
        "colab": {
          "base_uri": "https://localhost:8080/"
        },
        "id": "s9kX5lvqI0Zn",
        "outputId": "2bd7bc62-9a94-48cb-fb77-183b78c8f202"
      },
      "outputs": [
        {
          "output_type": "stream",
          "name": "stdout",
          "text": [
            "X is less than Y\n"
          ]
        }
      ],
      "source": [
        "## Simple Programm to know number greater than other number or not\n",
        "\n",
        "x=6\n",
        "y=9\n",
        "if x>y:\n",
        "  print(\"X Greater Than Y\")\n",
        "else:\n",
        "    print(\"X is less than Y\")"
      ]
    },
    {
      "cell_type": "code",
      "source": [
        "print(4/2)"
      ],
      "metadata": {
        "colab": {
          "base_uri": "https://localhost:8080/"
        },
        "id": "8BjfS9emPIRA",
        "outputId": "f62afe0c-2548-42d7-e128-b3f2d03f8210"
      },
      "execution_count": 6,
      "outputs": [
        {
          "output_type": "stream",
          "name": "stdout",
          "text": [
            "2.0\n"
          ]
        }
      ]
    },
    {
      "cell_type": "code",
      "source": [
        "print(\"Welcome Rajnandan Singh To Data Science Batch 018 @ odinschool\")"
      ],
      "metadata": {
        "colab": {
          "base_uri": "https://localhost:8080/"
        },
        "id": "dSxtZPFELZH1",
        "outputId": "92568ef8-a5c3-450e-9dcb-8b53dfc8a603"
      },
      "execution_count": 3,
      "outputs": [
        {
          "output_type": "stream",
          "name": "stdout",
          "text": [
            "Welcome Rajnandan Singh To Data Science Batch 018 @ odinschool\n"
          ]
        }
      ]
    },
    {
      "cell_type": "code",
      "source": [
        "print(99*100)"
      ],
      "metadata": {
        "colab": {
          "base_uri": "https://localhost:8080/"
        },
        "id": "egLhax7lPOJ7",
        "outputId": "e2ea5cb1-212f-4699-8e09-ccdf07304c47"
      },
      "execution_count": 7,
      "outputs": [
        {
          "output_type": "stream",
          "name": "stdout",
          "text": [
            "9900\n"
          ]
        }
      ]
    },
    {
      "cell_type": "code",
      "source": [
        "print(2106+10000)"
      ],
      "metadata": {
        "colab": {
          "base_uri": "https://localhost:8080/"
        },
        "id": "WXjuslXEPS3X",
        "outputId": "ca5a9fcd-825a-4932-8fec-646c4dcd21a5"
      },
      "execution_count": 8,
      "outputs": [
        {
          "output_type": "stream",
          "name": "stdout",
          "text": [
            "12106\n"
          ]
        }
      ]
    },
    {
      "cell_type": "code",
      "source": [
        "print(5**3)"
      ],
      "metadata": {
        "colab": {
          "base_uri": "https://localhost:8080/"
        },
        "id": "Q-ii07B-Pmkh",
        "outputId": "e118451c-5357-4b45-9c3c-adbeba3b886e"
      },
      "execution_count": 9,
      "outputs": [
        {
          "output_type": "stream",
          "name": "stdout",
          "text": [
            "125\n"
          ]
        }
      ]
    },
    {
      "cell_type": "code",
      "source": [
        "print(99**2)"
      ],
      "metadata": {
        "colab": {
          "base_uri": "https://localhost:8080/"
        },
        "id": "mgA1eNSPPqfC",
        "outputId": "fe2f2ef1-deaa-4bc9-9090-914ca7ce93a0"
      },
      "execution_count": 10,
      "outputs": [
        {
          "output_type": "stream",
          "name": "stdout",
          "text": [
            "9801\n"
          ]
        }
      ]
    },
    {
      "cell_type": "code",
      "source": [
        "print(\"Rajnandan Singh How About DAta Science Course From Odin School \" , \"It's Awesome\" , sep= \"\\n\")"
      ],
      "metadata": {
        "colab": {
          "base_uri": "https://localhost:8080/"
        },
        "id": "TY6_LFe8XQkZ",
        "outputId": "4602edc4-5b09-4ab3-b049-f00ef8e05a49"
      },
      "execution_count": 11,
      "outputs": [
        {
          "output_type": "stream",
          "name": "stdout",
          "text": [
            "Rajnandan Singh How About DAta Science Course From Odin School \n",
            "It's Awesome\n"
          ]
        }
      ]
    },
    {
      "cell_type": "code",
      "source": [
        "numbera=13\n",
        "numberb=10\n",
        "numberc=2\n",
        "print(numbera , numberb , numberc , sep= \"\\n\")\n",
        "\n"
      ],
      "metadata": {
        "colab": {
          "base_uri": "https://localhost:8080/"
        },
        "id": "ig_J7ud5mSCN",
        "outputId": "d5598e7f-06c0-4f3e-b6dd-02f33fe38559"
      },
      "execution_count": 13,
      "outputs": [
        {
          "output_type": "stream",
          "name": "stdout",
          "text": [
            "13\n",
            "10\n",
            "2\n"
          ]
        }
      ]
    }
  ]
}